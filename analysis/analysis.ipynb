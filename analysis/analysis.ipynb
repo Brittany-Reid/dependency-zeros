{
 "cells": [
  {
   "cell_type": "markdown",
   "metadata": {},
   "source": [
    "# Zero Dependencies"
   ]
  },
  {
   "cell_type": "markdown",
   "metadata": {},
   "source": [
    "## Setup"
   ]
  },
  {
   "cell_type": "code",
   "execution_count": 3,
   "metadata": {},
   "outputs": [],
   "source": [
    "import json"
   ]
  },
  {
   "cell_type": "code",
   "execution_count": 1,
   "metadata": {},
   "outputs": [],
   "source": [
    "dependency_chain_path = '../data/dependency_chain10.json'\n",
    "most_depended_upon_path = '../data/most_depended_upon500.json'\n",
    "registry_entries = '../data/registry_entries.json'"
   ]
  },
  {
   "cell_type": "code",
   "execution_count": 6,
   "metadata": {},
   "outputs": [],
   "source": [
    "registry_map = {}\n",
    "\n",
    "for p in json.load(open(registry_entries)):\n",
    "    p_name = p['name']\n",
    "    p_data = {}\n",
    "    p_data['versions'] = p['versions']\n",
    "    registry_map[p_name] = p_data"
   ]
  },
  {
   "cell_type": "markdown",
   "metadata": {},
   "source": [
    "## 500 Most depended upon libraries from Libraries.io"
   ]
  },
  {
   "cell_type": "code",
   "execution_count": 49,
   "metadata": {},
   "outputs": [
    {
     "name": "stdout",
     "output_type": "stream",
     "text": [
      "500\n"
     ]
    }
   ],
   "source": [
    "#the libraries.io info for each package\n",
    "most_depended_upon = json.load(open(most_depended_upon_path))\n",
    "\n",
    "print(len(most_depended_upon))"
   ]
  },
  {
   "cell_type": "markdown",
   "metadata": {},
   "source": [
    "## For the most depended upon libraries, how many have zero dependencies? What are the packages at the end of the dependency chain (zero dependencies)?"
   ]
  },
  {
   "cell_type": "markdown",
   "metadata": {},
   "source": [
    "1. Get the most popular packages from `libraries.io` (rank: dependant count).\n",
    "\n",
    "2. Get the dependency chain using the NPM registry for the latest version of each package. We ignore dev dependencies (only used in development) and peer dependencies (which may not be directly relied upon). Libraries.io only gives a single combined number, so any packages that with test suites for example will have dependencies."
   ]
  },
  {
   "cell_type": "code",
   "execution_count": 8,
   "metadata": {},
   "outputs": [
    {
     "name": "stdout",
     "output_type": "stream",
     "text": [
      "Zero dependencies in chain: 304\n",
      "Unique zero dependencies in chain: 115\n",
      "Zero dependency roots: 5 / 10 ( 0.5 )\n"
     ]
    }
   ],
   "source": [
    "dependency_chain = json.load(open(dependency_chain_path))\n",
    "\n",
    "root_zeros = []\n",
    "zeros = []\n",
    "parents = []\n",
    "nodes = []\n",
    "def walk_chain(chain):\n",
    "    for d in chain:\n",
    "        if isinstance(chain, dict):\n",
    "            d = chain[d]\n",
    "        parents.append(d)\n",
    "        if isinstance(d, str):\n",
    "            #is end of chain\n",
    "            zeros.append(d)\n",
    "            if len(parents) == 1:\n",
    "                root_zeros.append(d)\n",
    "        else:\n",
    "            walk_chain(d)\n",
    "        parents.pop()\n",
    "\n",
    "\n",
    "walk_chain(dependency_chain)\n",
    "unique_zeros = list(dict.fromkeys(zeros))\n",
    "\n",
    "\n",
    "print(\"Zero dependencies in chain:\", len(zeros))\n",
    "print(\"Unique zero dependencies in chain:\", len(unique_zeros))\n",
    "print(\"Zero dependency roots:\", len(root_zeros), \"/\", len(dependency_chain), '(', len(root_zeros)/len(dependency_chain), ')')\n",
    "\n",
    "# print(\"\\nPopular zeros:\", json.dumps(root_zeros, indent=1))\n",
    "json.dump(root_zeros, open('../data/zero500.json', 'w'), indent=1)\n",
    "\n",
    "# print(\"\\nFinal nodes:\", json.dumps(zeros, indent=1))\n",
    "json.dump(zeros, open('../data/zeroOnChain500.json', 'w'), indent=1)\n"
   ]
  },
  {
   "cell_type": "markdown",
   "metadata": {},
   "source": [
    "## How many used to have dependencies?"
   ]
  },
  {
   "cell_type": "code",
   "execution_count": 37,
   "metadata": {},
   "outputs": [
    {
     "name": "stdout",
     "output_type": "stream",
     "text": [
      "packages that reduced dependencies: ['typescript', 'prettier']\n"
     ]
    }
   ],
   "source": [
    "reduced = {}\n",
    "\n",
    "for p in root_zeros:\n",
    "    has_dependencies = False\n",
    "    versions = registry_map[p]['versions']\n",
    "    v_data = {}\n",
    "    for v in versions:\n",
    "        dependencies = {}\n",
    "        if 'dependencies' in versions[v]:\n",
    "            dependencies = versions[v]['dependencies']\n",
    "            if dependencies :\n",
    "                has_dependencies = True\n",
    "                dependencies = list(dependencies.keys())\n",
    "                v_data[v] = dependencies\n",
    "    if has_dependencies:\n",
    "        reduced[p] = v_data\n",
    "\n",
    "print('packages that reduced dependencies:', list(reduced.keys()))"
   ]
  }
 ],
 "metadata": {
  "kernelspec": {
   "display_name": "jup",
   "language": "python",
   "name": "python3"
  },
  "language_info": {
   "codemirror_mode": {
    "name": "ipython",
    "version": 3
   },
   "file_extension": ".py",
   "mimetype": "text/x-python",
   "name": "python",
   "nbconvert_exporter": "python",
   "pygments_lexer": "ipython3",
   "version": "3.11.7"
  }
 },
 "nbformat": 4,
 "nbformat_minor": 2
}
