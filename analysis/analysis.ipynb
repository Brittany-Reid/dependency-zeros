{
 "cells": [
  {
   "cell_type": "markdown",
   "metadata": {},
   "source": [
    "# Zero Dependencies"
   ]
  },
  {
   "cell_type": "markdown",
   "metadata": {},
   "source": [
    "## Setup"
   ]
  },
  {
   "cell_type": "code",
   "execution_count": 1,
   "metadata": {},
   "outputs": [],
   "source": [
    "import json\n",
    "from collections import Counter"
   ]
  },
  {
   "cell_type": "code",
   "execution_count": 2,
   "metadata": {},
   "outputs": [],
   "source": [
    "dependency_chain_path = '../data/dependency_chain10.json'\n",
    "most_depended_upon_path = '../data/most_depended_upon10.json'\n",
    "dependency_chain_path100 = '../data/dependency_chain100.json'\n",
    "most_depended_upon_path100 = '../data/most_depended_upon100.json'\n",
    "dependency_chain_path500 = '../data/dependency_chain500.json'\n",
    "most_depended_upon_path500 = '../data/most_depended_upon500.json'\n",
    "registry_entries = '../data/registry_entries.json'"
   ]
  },
  {
   "cell_type": "code",
   "execution_count": 3,
   "metadata": {},
   "outputs": [],
   "source": [
    "registry_map = {}\n",
    "\n",
    "for p in json.load(open(registry_entries)):\n",
    "    p_name = p['name']\n",
    "    p_data = {}\n",
    "    p_data['versions'] = p['versions']\n",
    "    registry_map[p_name] = p_data"
   ]
  },
  {
   "cell_type": "markdown",
   "metadata": {},
   "source": [
    "## Most depended upon libraries from Libraries.io"
   ]
  },
  {
   "cell_type": "code",
   "execution_count": 4,
   "metadata": {},
   "outputs": [
    {
     "name": "stdout",
     "output_type": "stream",
     "text": [
      "10\n",
      "100\n",
      "500\n"
     ]
    }
   ],
   "source": [
    "#the libraries.io info for each package\n",
    "most_depended_upon = json.load(open(most_depended_upon_path))\n",
    "most_depended_upon100 = json.load(open(most_depended_upon_path100))\n",
    "most_depended_upon500 = json.load(open(most_depended_upon_path500))\n",
    "\n",
    "print(len(most_depended_upon))\n",
    "print(len(most_depended_upon100))\n",
    "print(len(most_depended_upon500))"
   ]
  },
  {
   "cell_type": "markdown",
   "metadata": {},
   "source": [
    "## Chain statistics"
   ]
  },
  {
   "cell_type": "code",
   "execution_count": 27,
   "metadata": {},
   "outputs": [],
   "source": [
    "dependency_chain = json.load(open(dependency_chain_path))\n",
    "\n",
    "roots_t = []\n",
    "root_zeros_t = []\n",
    "zeros_t = []\n",
    "parents_t = []\n",
    "nodes_t = []\n",
    "circulars_t = []\n",
    "def walk_chain(chain):\n",
    "    for d in chain:\n",
    "        parents_t.append(d)\n",
    "        if isinstance(d, dict):\n",
    "            node = list(d.keys())[0]\n",
    "            d = d[node]\n",
    "            nodes_t.append(node)\n",
    "            if len(parents_t) == 1:\n",
    "                roots_t.append(node)\n",
    "            walk_chain(d)\n",
    "        elif isinstance(d, str):\n",
    "            node = d\n",
    "            zeros_t.append(node)\n",
    "            if len(parents_t) == 1:\n",
    "                root_zeros_t.append(node)\n",
    "                roots_t.append(node)\n",
    "            nodes_t.append(node)\n",
    "            if node.endswith('...'):\n",
    "                circulars_t.append(node)\n",
    "        else:\n",
    "            walk_chain(d)\n",
    "        parents_t.pop()\n",
    "\n",
    "\n",
    "walk_chain(dependency_chain)"
   ]
  },
  {
   "cell_type": "code",
   "execution_count": 28,
   "metadata": {},
   "outputs": [
    {
     "name": "stdout",
     "output_type": "stream",
     "text": [
      "Root nodes: 10\n",
      "Size of chain: 504\n",
      "Average dependency chain for root nodes: 49.4\n",
      "Unique packages on chain: 216\n",
      "Most frequent on chain: ('@webassemblyjs/helper-wasm-bytecode', 19)\n",
      "Circular dependencies?: 0\n",
      "['typescript', 'eslint-plugin-react-hooks', 'moment', 'prettier', '@types/lodash']\n"
     ]
    }
   ],
   "source": [
    "roots = roots_t\n",
    "root_zeros = root_zeros_t\n",
    "zeros = zeros_t\n",
    "parents = parents_t\n",
    "nodes = nodes_t\n",
    "circulars = circulars_t\n",
    "print('Root nodes:', len(roots))\n",
    "print('Size of chain:', len(nodes))\n",
    "\n",
    "average_dependency_count = (len(nodes) - len(roots)) / len(roots)\n",
    "print(\"Average dependency chain for root nodes:\", average_dependency_count)\n",
    "\n",
    "unique_nodes = Counter(nodes)\n",
    "print('Unique packages on chain:', len(unique_nodes))\n",
    "\n",
    "print('Most frequent on chain:', unique_nodes.most_common(1)[0])\n",
    "\n",
    "print('Circular dependencies?:', len(circulars))\n",
    "\n",
    "print(root_zeros)\n",
    "\n",
    "# print(json.dumps(nodes, indent=1))"
   ]
  },
  {
   "cell_type": "markdown",
   "metadata": {},
   "source": [
    "### Top 100"
   ]
  },
  {
   "cell_type": "markdown",
   "metadata": {},
   "source": [
    "For a larger sample, let's look at 100 as well."
   ]
  },
  {
   "cell_type": "code",
   "execution_count": 21,
   "metadata": {},
   "outputs": [],
   "source": [
    "dependency_chain100 = json.load(open(dependency_chain_path100))\n",
    "roots_t = []\n",
    "root_zeros_t = []\n",
    "zeros_t = []\n",
    "parents_t = []\n",
    "nodes_t = []\n",
    "circulars_t = []\n",
    "walk_chain(dependency_chain100)"
   ]
  },
  {
   "cell_type": "code",
   "execution_count": 22,
   "metadata": {},
   "outputs": [
    {
     "name": "stdout",
     "output_type": "stream",
     "text": [
      "Root nodes: 100\n",
      "Size of chain: 333800\n",
      "Average dependency chain for root nodes: 3337.0\n",
      "Unique packages on chain: 1479\n",
      "Most frequent on chain: ('function-bind', 42526)\n",
      "Circular dependencies?: 283\n"
     ]
    }
   ],
   "source": [
    "roots100 = roots_t\n",
    "root_zeros100 = root_zeros_t\n",
    "zeros100 = zeros_t\n",
    "parents100 = parents_t\n",
    "nodes100 = nodes_t\n",
    "circulars100 = circulars_t\n",
    "\n",
    "print('Root nodes:', len(roots100))\n",
    "print('Size of chain:', len(nodes100))\n",
    "\n",
    "average_dependency_count = (len(nodes100) - len(roots100)) / len(roots100)\n",
    "print(\"Average dependency chain for root nodes:\", average_dependency_count)\n",
    "\n",
    "unique_nodes100 = Counter(nodes100)\n",
    "print('Unique packages on chain:', len(unique_nodes100))\n",
    "\n",
    "print('Most frequent on chain:', unique_nodes100.most_common(1)[0])\n",
    "\n",
    "print('Circular dependencies?:', len(circulars100))\n",
    "\n",
    "# print(roots)\n",
    "# print([p['name'] for p in most_depended_upon100])"
   ]
  },
  {
   "cell_type": "markdown",
   "metadata": {},
   "source": [
    "## For the most depended upon libraries, how many have zero dependencies? What are the packages at the end of the dependency chain (zero dependencies)?"
   ]
  },
  {
   "cell_type": "markdown",
   "metadata": {},
   "source": [
    "1. Get the most popular packages from `libraries.io` (rank: dependant count).\n",
    "\n",
    "2. Get the dependency chain using the NPM registry for the latest version of each package. We ignore dev dependencies (only used in development) and peer dependencies (which may not be directly relied upon). Libraries.io only gives a single combined number, so any packages that with test suites for example will have dependencies."
   ]
  },
  {
   "cell_type": "code",
   "execution_count": 23,
   "metadata": {},
   "outputs": [
    {
     "name": "stdout",
     "output_type": "stream",
     "text": [
      "Zero dependencies in chain: 304 / 504\n",
      "Unique zero dependencies in chain: 115 / 216\n",
      "Zero dependency roots: 5 / 10 ( 0.5 )\n",
      "\n",
      "Popular zeros: [\n",
      " \"typescript\",\n",
      " \"eslint-plugin-react-hooks\",\n",
      " \"moment\",\n",
      " \"prettier\",\n",
      " \"@types/lodash\"\n",
      "]\n"
     ]
    }
   ],
   "source": [
    "unique_zeros = list(dict.fromkeys(zeros))\n",
    "\n",
    "print(\"Zero dependencies in chain:\", len(zeros), '/', len(nodes))\n",
    "print(\"Unique zero dependencies in chain:\", len(unique_zeros), '/', len(unique_nodes))\n",
    "print(\"Zero dependency roots:\", len(root_zeros), \"/\", len(dependency_chain), '(', len(root_zeros)/len(dependency_chain), ')')\n",
    "\n",
    "print(\"\\nPopular zeros:\", json.dumps(root_zeros, indent=1))\n",
    "# json.dump(root_zeros, open('../data/zero10.json', 'w'), indent=1)\n",
    "\n",
    "#print(\"\\nFinal nodes:\", json.dumps(unique_zeros, indent=1))\n",
    "# json.dump(unique_zeros, open('../data/zeroOnChain10.json', 'w'), indent=1)\n"
   ]
  },
  {
   "cell_type": "markdown",
   "metadata": {},
   "source": [
    "### Top 100"
   ]
  },
  {
   "cell_type": "code",
   "execution_count": 25,
   "metadata": {},
   "outputs": [
    {
     "name": "stdout",
     "output_type": "stream",
     "text": [
      "Zero dependencies in chain: 196365 / 333800\n",
      "Unique zero dependencies in chain: 599 / 1479\n",
      "Zero dependency roots: 23 / 100 ( 0.05 )\n",
      "\n",
      "Popular zeros: [\n",
      " \"typescript\",\n",
      " \"eslint-plugin-react-hooks\",\n",
      " \"moment\",\n",
      " \"prettier\",\n",
      " \"@types/lodash\",\n",
      " \"@types/chai\",\n",
      " \"@types/mocha\",\n",
      " \"async\",\n",
      " \"commander\",\n",
      " \"core-js\",\n",
      " \"uuid\",\n",
      " \"react-is\",\n",
      " \"bootstrap\",\n",
      " \"redux\",\n",
      " \"date-fns\",\n",
      " \"chalk\",\n",
      " \"bluebird\",\n",
      " \"classnames\",\n",
      " \"eslint-config-prettier\",\n",
      " \"style-loader\",\n",
      " \"@angular/language-service\",\n",
      " \"jquery\",\n",
      " \"lodash.debounce\"\n",
      "]\n"
     ]
    }
   ],
   "source": [
    "unique_zeros100 = list(dict.fromkeys(zeros100))\n",
    "\n",
    "print(\"Zero dependencies in chain:\", len(zeros100), '/', len(nodes100))\n",
    "print(\"Unique zero dependencies in chain:\", len(unique_zeros100), '/', len(unique_nodes100))\n",
    "print(\"Zero dependency roots:\", len(root_zeros100), \"/\", len(dependency_chain100), '(', len(root_zeros)/len(dependency_chain100), ')')\n",
    "\n",
    "print(\"\\nPopular zeros:\", json.dumps(root_zeros100, indent=1))\n",
    "json.dump(root_zeros100, open('../data/zero100.json', 'w'), indent=1)\n",
    "\n",
    "#print(\"\\nFinal nodes:\", json.dumps(unique_zeros, indent=1))\n",
    "json.dump(unique_zeros100, open('../data/zeroOnChain100.json', 'w'), indent=1)"
   ]
  },
  {
   "cell_type": "markdown",
   "metadata": {},
   "source": [
    "## How many used to have dependencies?"
   ]
  },
  {
   "cell_type": "markdown",
   "metadata": {},
   "source": [
    "### Root nodes?"
   ]
  },
  {
   "cell_type": "code",
   "execution_count": 109,
   "metadata": {},
   "outputs": [
    {
     "name": "stdout",
     "output_type": "stream",
     "text": [
      "packages that reduced dependencies: [\n",
      " \"typescript\",\n",
      " \"prettier\"\n",
      "]\n"
     ]
    }
   ],
   "source": [
    "reduced = {}\n",
    "\n",
    "for p in root_zeros:\n",
    "    has_dependencies = False\n",
    "    versions = registry_map[p]['versions']\n",
    "    v_data = {}\n",
    "    for v in versions:\n",
    "        dependencies = {}\n",
    "        if 'dependencies' in versions[v]:\n",
    "            dependencies = versions[v]['dependencies']\n",
    "            if dependencies :\n",
    "                has_dependencies = True\n",
    "                dependencies = list(dependencies.keys())\n",
    "                v_data[v] = dependencies\n",
    "    if has_dependencies:\n",
    "        reduced[p] = v_data\n",
    "\n",
    "print('packages that reduced dependencies:', json.dumps(list(reduced.keys()), indent=1))\n",
    "\n",
    "# print(json.dumps(reduced['prettier'], indent=1))"
   ]
  },
  {
   "cell_type": "markdown",
   "metadata": {},
   "source": [
    "### End of the line?"
   ]
  },
  {
   "cell_type": "code",
   "execution_count": 146,
   "metadata": {},
   "outputs": [
    {
     "name": "stdout",
     "output_type": "stream",
     "text": [
      "Packages that reduced dependencies 34\n",
      "{\n",
      " \"0.1.0\": [\n",
      "  \"underscore\",\n",
      "  \"underscore.string\"\n",
      " ],\n",
      " \"0.1.1\": [\n",
      "  \"underscore\",\n",
      "  \"underscore.string\"\n",
      " ],\n",
      " \"0.1.2\": [\n",
      "  \"underscore\",\n",
      "  \"underscore.string\"\n",
      " ],\n",
      " \"0.1.3\": [\n",
      "  \"underscore\",\n",
      "  \"underscore.string\"\n",
      " ],\n",
      " \"0.1.4\": [\n",
      "  \"underscore\",\n",
      "  \"underscore.string\"\n",
      " ],\n",
      " \"0.1.5\": [\n",
      "  \"underscore\",\n",
      "  \"underscore.string\"\n",
      " ],\n",
      " \"0.1.6\": [\n",
      "  \"underscore\",\n",
      "  \"underscore.string\"\n",
      " ],\n",
      " \"0.1.7\": [\n",
      "  \"underscore\",\n",
      "  \"underscore.string\"\n",
      " ],\n",
      " \"0.1.8\": [\n",
      "  \"underscore\",\n",
      "  \"underscore.string\"\n",
      " ],\n",
      " \"0.1.9\": [\n",
      "  \"underscore\",\n",
      "  \"underscore.string\"\n",
      " ],\n",
      " \"0.1.10\": [\n",
      "  \"underscore\",\n",
      "  \"underscore.string\"\n",
      " ],\n",
      " \"0.1.11\": [\n",
      "  \"underscore\",\n",
      "  \"underscore.string\"\n",
      " ],\n",
      " \"0.1.12\": [\n",
      "  \"underscore\",\n",
      "  \"underscore.string\"\n",
      " ],\n",
      " \"0.1.13\": [\n",
      "  \"underscore\",\n",
      "  \"underscore.string\"\n",
      " ],\n",
      " \"0.1.14\": [\n",
      "  \"underscore\",\n",
      "  \"underscore.string\"\n",
      " ],\n",
      " \"0.1.15\": [\n",
      "  \"underscore\",\n",
      "  \"underscore.string\"\n",
      " ],\n",
      " \"0.1.16\": [\n",
      "  \"underscore\",\n",
      "  \"underscore.string\"\n",
      " ],\n",
      " \"1.0.0\": [\n",
      "  \"lodash\",\n",
      "  \"sprintf-js\"\n",
      " ],\n",
      " \"1.0.1\": [\n",
      "  \"lodash\",\n",
      "  \"sprintf-js\"\n",
      " ],\n",
      " \"1.0.2\": [\n",
      "  \"lodash\",\n",
      "  \"sprintf-js\"\n",
      " ],\n",
      " \"1.0.3\": [\n",
      "  \"lodash\",\n",
      "  \"sprintf-js\"\n",
      " ],\n",
      " \"1.0.4\": [\n",
      "  \"lodash\",\n",
      "  \"sprintf-js\"\n",
      " ],\n",
      " \"1.0.5\": [\n",
      "  \"sprintf-js\"\n",
      " ],\n",
      " \"1.0.6\": [\n",
      "  \"sprintf-js\"\n",
      " ],\n",
      " \"1.0.7\": [\n",
      "  \"sprintf-js\"\n",
      " ],\n",
      " \"1.0.8\": [\n",
      "  \"istanbul\",\n",
      "  \"sprintf-js\"\n",
      " ],\n",
      " \"1.0.9\": [\n",
      "  \"sprintf-js\"\n",
      " ],\n",
      " \"1.0.10\": [\n",
      "  \"sprintf-js\"\n",
      " ]\n",
      "}\n"
     ]
    }
   ],
   "source": [
    "reduced_ends = {}\n",
    "\n",
    "for p in zeros:\n",
    "    has_dependencies = False\n",
    "    versions = registry_map[p]['versions']\n",
    "    v_data = {}\n",
    "    for v in versions:\n",
    "        dependencies = {}\n",
    "        if 'dependencies' in versions[v]:\n",
    "            dependencies = versions[v]['dependencies']\n",
    "            if dependencies :\n",
    "                has_dependencies = True\n",
    "                dependencies = list(dependencies.keys())\n",
    "                v_data[v] = dependencies\n",
    "    if has_dependencies:\n",
    "        reduced_ends[p] = v_data\n",
    "\n",
    "print('Packages that reduced dependencies', len(reduced_ends))\n",
    "# print('List:', json.dumps(list(reduced_ends.keys()), indent=1))\n",
    "\n",
    "# json.dump(list(reduced_ends.keys()), open('../data/reducedOnChain10.json', 'w'), indent=1)\n",
    "\n",
    "print(json.dumps(reduced_ends['argparse'], indent=1))"
   ]
  }
 ],
 "metadata": {
  "kernelspec": {
   "display_name": "jup",
   "language": "python",
   "name": "python3"
  },
  "language_info": {
   "codemirror_mode": {
    "name": "ipython",
    "version": 3
   },
   "file_extension": ".py",
   "mimetype": "text/x-python",
   "name": "python",
   "nbconvert_exporter": "python",
   "pygments_lexer": "ipython3",
   "version": "3.11.7"
  }
 },
 "nbformat": 4,
 "nbformat_minor": 2
}
