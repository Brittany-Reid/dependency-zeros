{
 "cells": [
  {
   "cell_type": "markdown",
   "metadata": {},
   "source": [
    "# Zero Dependencies"
   ]
  },
  {
   "cell_type": "markdown",
   "metadata": {},
   "source": [
    "## Setup"
   ]
  },
  {
   "cell_type": "code",
   "execution_count": 57,
   "metadata": {},
   "outputs": [],
   "source": [
    "import json\n",
    "from collections import Counter"
   ]
  },
  {
   "cell_type": "code",
   "execution_count": 58,
   "metadata": {},
   "outputs": [],
   "source": [
    "#top x most depended upon libraries\n",
    "most_depended_upon_10_path = '../data/most_depended_upon10.json'\n",
    "most_depended_upon_100_path = '../data/most_depended_upon100.json'\n",
    "most_depended_upon_500_path = '../data/most_depended_upon500.json'\n",
    "\n",
    "#dependency chain of root x libraries\n",
    "dependency_chain_10_path = '../data/dependency_chain10.json'\n",
    "dependency_chain_100_path = '../data/dependency_chain100.json'\n",
    "dependency_chain_500_path = '../data/dependency_chain500.json'\n",
    "\n",
    "#generated file paths - libraries with zero dependencies in most depended\n",
    "zero_10_path = '../data/zero10.json'\n",
    "zero_100_path = '../data/zero100.json'\n",
    "zero_500_path = '../data/zero500.json'\n",
    "\n",
    "#generated file paths - libraries with zero dependencies in chain\n",
    "zero_on_chain_10_path = '../data/zero_on_chain10.json'\n",
    "zero_on_chain_100_path = '../data/zero_on_chain100.json'\n",
    "zero_on_chain_500_path = '../data/zero_on_chain500.json'\n",
    "\n",
    "#registry data\n",
    "registry_entries = '../data/registry_entries.json'"
   ]
  },
  {
   "cell_type": "code",
   "execution_count": 69,
   "metadata": {},
   "outputs": [],
   "source": [
    "registry_map = {}\n",
    "\n",
    "#load in only what data is needed\n",
    "for p in json.load(open(registry_entries)):\n",
    "    p_name = p['name']\n",
    "    p_data = {}\n",
    "    p_data['versions'] = p['versions']\n",
    "    p_data['repository'] =  None\n",
    "    if 'repository' in p:\n",
    "        p_data['repository'] = p['repository']\n",
    "    registry_map[p_name] = p_data\n"
   ]
  },
  {
   "cell_type": "markdown",
   "metadata": {},
   "source": [
    "## Most depended upon libraries from Libraries.io"
   ]
  },
  {
   "cell_type": "code",
   "execution_count": 60,
   "metadata": {},
   "outputs": [
    {
     "name": "stdout",
     "output_type": "stream",
     "text": [
      "10\n",
      "100\n",
      "500\n"
     ]
    }
   ],
   "source": [
    "#the libraries.io info for each package\n",
    "most_depended_upon_10 = json.load(open(most_depended_upon_10_path))\n",
    "most_depended_upon_100 = json.load(open(most_depended_upon_100_path))\n",
    "most_depended_upon_500 = json.load(open(most_depended_upon_500_path))\n",
    "\n",
    "print(len(most_depended_upon_10))\n",
    "print(len(most_depended_upon_100))\n",
    "print(len(most_depended_upon_500))"
   ]
  },
  {
   "cell_type": "markdown",
   "metadata": {},
   "source": [
    "## Chain statistics"
   ]
  },
  {
   "cell_type": "markdown",
   "metadata": {},
   "source": [
    "### Top 10"
   ]
  },
  {
   "cell_type": "code",
   "execution_count": 66,
   "metadata": {},
   "outputs": [
    {
     "name": "stdout",
     "output_type": "stream",
     "text": [
      "Root nodes: 10\n",
      "Size of chain: 504\n",
      "Unique packages on chain: 216\n",
      "Average dependency chain for root nodes: 49.4\n",
      "Most frequent on chain: ('@webassemblyjs/helper-wasm-bytecode', 19)\n",
      "Circular dependencies?: 0\n",
      "Zero dependencies in chain: 304 / 504\n",
      "Unique zero dependencies in chain: 115 / 216\n",
      "Zero dependency roots: 5 / 10 ( 0.5 )\n",
      "\n",
      "Popular zeros: [\n",
      " \"typescript\",\n",
      " \"eslint-plugin-react-hooks\",\n",
      " \"moment\",\n",
      " \"prettier\",\n",
      " \"@types/lodash\"\n",
      "]\n"
     ]
    }
   ],
   "source": [
    "dependency_chain_10 = json.load(open(dependency_chain_10_path))\n",
    "\n",
    "def chain_stats(chain):\n",
    "    roots = []\n",
    "    root_zeros = []\n",
    "    zeros = []\n",
    "    parents = []\n",
    "    nodes = []\n",
    "    circulars = []\n",
    "    def walk_chain(chain):\n",
    "        for d in chain:\n",
    "            parents.append(d)\n",
    "            if isinstance(d, dict):\n",
    "                node = list(d.keys())[0]\n",
    "                d = d[node]\n",
    "                nodes.append(node)\n",
    "                if len(parents) == 1:\n",
    "                    roots.append(node)\n",
    "                walk_chain(d)\n",
    "            elif isinstance(d, str):\n",
    "                node = d\n",
    "                if node.endswith('...'):\n",
    "                    circulars.append(node)\n",
    "                else:\n",
    "                    zeros.append(node)\n",
    "                    if len(parents) == 1:\n",
    "                        root_zeros.append(node)\n",
    "                        roots.append(node)\n",
    "                    nodes.append(node)\n",
    "            else:\n",
    "                walk_chain(d)\n",
    "            parents.pop()\n",
    "\n",
    "    walk_chain(chain)\n",
    "    print('Root nodes:', len(roots))\n",
    "    print('Size of chain:', len(nodes))\n",
    "\n",
    "    unique_nodes = Counter(nodes)\n",
    "    print('Unique packages on chain:', len(unique_nodes))\n",
    "\n",
    "    average_dependency_count = (len(nodes) - len(roots)) / len(roots)\n",
    "    print(\"Average dependency chain for root nodes:\", average_dependency_count)\n",
    "\n",
    "    print('Most frequent on chain:', unique_nodes.most_common(1)[0])\n",
    "\n",
    "    print('Circular dependencies?:', len(circulars))\n",
    "\n",
    "    print(\"Zero dependencies in chain:\", len(zeros), '/', len(nodes))\n",
    "\n",
    "    unique_zeros = list(dict.fromkeys(zeros))\n",
    "    print(\"Unique zero dependencies in chain:\", len(unique_zeros), '/', len(unique_nodes))\n",
    "    print(\"Zero dependency roots:\", len(root_zeros), \"/\", len(chain), '(', len(root_zeros)/len(chain), ')')\n",
    "\n",
    "    print(\"\\nPopular zeros:\", json.dumps(root_zeros, indent=1))\n",
    "\n",
    "    json.dump(root_zeros, open('../data/zero'+str(len(roots))+'.json', 'w'), indent=1)\n",
    "\n",
    "    json.dump(unique_zeros, open('../data/zero_on_chain'+str(len(roots))+'.json', 'w'), indent=1)\n",
    "\n",
    "    return {\n",
    "        'roots' : roots,\n",
    "        'root_zeros' : root_zeros,\n",
    "        'nodes': nodes,\n",
    "        'unique_nodes': unique_nodes,\n",
    "        'zeros': zeros,\n",
    "        'unique_zeros': unique_zeros,\n",
    "    }\n",
    "\n",
    "chain_stats_10 = chain_stats(dependency_chain_10)"
   ]
  },
  {
   "cell_type": "markdown",
   "metadata": {},
   "source": [
    "### Top 100"
   ]
  },
  {
   "cell_type": "markdown",
   "metadata": {},
   "source": [
    "For a larger sample, let's look at 100 as well."
   ]
  },
  {
   "cell_type": "code",
   "execution_count": 67,
   "metadata": {},
   "outputs": [
    {
     "name": "stdout",
     "output_type": "stream",
     "text": [
      "Root nodes: 100\n",
      "Size of chain: 333517\n",
      "Unique packages on chain: 1475\n",
      "Average dependency chain for root nodes: 3334.17\n",
      "Most frequent on chain: ('function-bind', 42526)\n",
      "Circular dependencies?: 283\n",
      "Zero dependencies in chain: 196082 / 333517\n",
      "Unique zero dependencies in chain: 595 / 1475\n",
      "Zero dependency roots: 23 / 100 ( 0.23 )\n",
      "\n",
      "Popular zeros: [\n",
      " \"typescript\",\n",
      " \"eslint-plugin-react-hooks\",\n",
      " \"moment\",\n",
      " \"prettier\",\n",
      " \"@types/lodash\",\n",
      " \"@types/chai\",\n",
      " \"@types/mocha\",\n",
      " \"async\",\n",
      " \"commander\",\n",
      " \"core-js\",\n",
      " \"uuid\",\n",
      " \"react-is\",\n",
      " \"bootstrap\",\n",
      " \"redux\",\n",
      " \"date-fns\",\n",
      " \"chalk\",\n",
      " \"bluebird\",\n",
      " \"classnames\",\n",
      " \"eslint-config-prettier\",\n",
      " \"style-loader\",\n",
      " \"@angular/language-service\",\n",
      " \"jquery\",\n",
      " \"lodash.debounce\"\n",
      "]\n"
     ]
    }
   ],
   "source": [
    "dependency_chain_100 = json.load(open(dependency_chain_100_path))\n",
    "chain_stats_100 = chain_stats(dependency_chain_100)"
   ]
  },
  {
   "cell_type": "markdown",
   "metadata": {},
   "source": [
    "## How many have GitHub repositories?"
   ]
  },
  {
   "cell_type": "code",
   "execution_count": 93,
   "metadata": {},
   "outputs": [
    {
     "name": "stdout",
     "output_type": "stream",
     "text": [
      "With GitHub: 586 / 595 (0.984873949579832)\n",
      "With Other (GitLab): 3 / 595 (0.005042016806722689)\n",
      "With None: 6 / 595 (0.010084033613445379)\n",
      "['string-width-cjs', 'strip-ansi-cjs', 'wrap-ansi-cjs', '@types/mime', 'boolbase', '@types/cookie']\n"
     ]
    }
   ],
   "source": [
    "\n",
    "repos = []\n",
    "no_repo = []\n",
    "other = []\n",
    "for p in chain_stats_100['unique_zeros']:\n",
    "    data = registry_map[p]\n",
    "    repo = data[\"repository\"]\n",
    "    # if repo == None:\n",
    "    #     print(p)\n",
    "    if repo != None:\n",
    "        url = repo\n",
    "        if 'url' in repo:\n",
    "            url = repo['url']\n",
    "        if 'github.com/' in url:\n",
    "            repos.append(url)\n",
    "        else:\n",
    "            other.append(url)\n",
    "    else:\n",
    "        no_repo.append(p)\n",
    "\n",
    "print(\"With GitHub:\", len(repos), \"/\", len(chain_stats_100['unique_zeros']), \"(%s)\" % (len(repos)/len(chain_stats_100['unique_zeros'])))\n",
    "print(\"With Other (GitLab):\", len(other), \"/\", len(chain_stats_100['unique_zeros']), \"(%s)\" % (len(other)/len(chain_stats_100['unique_zeros'])))\n",
    "print(\"With None:\", len(no_repo), \"/\", len(chain_stats_100['unique_zeros']), \"(%s)\" % (len(no_repo)/len(chain_stats_100['unique_zeros'])))\n",
    "print(no_repo)\n"
   ]
  }
 ],
 "metadata": {
  "kernelspec": {
   "display_name": "jup",
   "language": "python",
   "name": "python3"
  },
  "language_info": {
   "codemirror_mode": {
    "name": "ipython",
    "version": 3
   },
   "file_extension": ".py",
   "mimetype": "text/x-python",
   "name": "python",
   "nbconvert_exporter": "python",
   "pygments_lexer": "ipython3",
   "version": "3.11.7"
  }
 },
 "nbformat": 4,
 "nbformat_minor": 2
}
